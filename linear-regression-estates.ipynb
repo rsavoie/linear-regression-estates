{
 "cells": [
  {
   "cell_type": "markdown",
   "metadata": {},
   "source": [
    "# Desafío III: Prediciendo precios de propiedades"
   ]
  },
  {
   "cell_type": "markdown",
   "metadata": {},
   "source": [
    "_Autores_: \n",
    "* Manuel Alvarez\n",
    "* Roberto Traber\n",
    "* Ramiro Savoie"
   ]
  },
  {
   "cell_type": "markdown",
   "metadata": {},
   "source": [
    "## Planteo del problema\n",
    "Se nos plantea el problema de desarrollar un tasador automático de propiedades mediante un modelo de regresión basandonos en el dataset de la inmobiliaria Properati."
   ]
  },
  {
   "cell_type": "markdown",
   "metadata": {},
   "source": [
    "## Análisis del Dataset"
   ]
  },
  {
   "cell_type": "markdown",
   "metadata": {},
   "source": [
    "El dataset contiene información referida al primer semestre de 2017 de las propiedades comercializables por la empresa:\n",
    "\n",
    "* Fecha de creación\n",
    "* Tipo de la propiedad (house, apartment, ph)\n",
    "* Operación del aviso (sell, rent)\n",
    "* Nombre del lugar\n",
    "* Nombre del lugar + nombre de sus ‘padres’\n",
    "* ID de geonames del lugar (si está disponible)\n",
    "* Latitud,Longitud\n",
    "* Precio original del aviso\n",
    "* Moneda original del aviso (ARS, USD)\n",
    "* Precio del aviso en moneda local (ARS)\n",
    "* Precio aproximado en USD\n",
    "* Superficie en m²\n",
    "* Superficie cubierta en m²\n",
    "* Precio en USD/m²\n",
    "* Precio por m²\n",
    "* N° de piso, si corresponde\n",
    "* Ambientes\n",
    "* URL en Properati\n",
    "* Descripción\n",
    "* Título\n",
    "* URL de un thumbnail de la primer foto"
   ]
  },
  {
   "cell_type": "code",
   "execution_count": 176,
   "metadata": {},
   "outputs": [
    {
     "name": "stdout",
     "output_type": "stream",
     "text": [
      "<class 'pandas.core.frame.DataFrame'>\n",
      "RangeIndex: 121220 entries, 0 to 121219\n",
      "Data columns (total 26 columns):\n",
      "Unnamed: 0                    121220 non-null int64\n",
      "operation                     121220 non-null object\n",
      "property_type                 121220 non-null object\n",
      "place_name                    121197 non-null object\n",
      "place_with_parent_names       121220 non-null object\n",
      "country_name                  121220 non-null object\n",
      "state_name                    121220 non-null object\n",
      "geonames_id                   102503 non-null float64\n",
      "lat-lon                       69670 non-null object\n",
      "lat                           69670 non-null float64\n",
      "lon                           69670 non-null float64\n",
      "price                         100810 non-null float64\n",
      "currency                      100809 non-null object\n",
      "price_aprox_local_currency    100810 non-null float64\n",
      "price_aprox_usd               100810 non-null float64\n",
      "surface_total_in_m2           81892 non-null float64\n",
      "surface_covered_in_m2         101313 non-null float64\n",
      "price_usd_per_m2              68617 non-null float64\n",
      "price_per_m2                  87658 non-null float64\n",
      "floor                         7899 non-null float64\n",
      "rooms                         47390 non-null float64\n",
      "expenses                      14262 non-null float64\n",
      "properati_url                 121220 non-null object\n",
      "description                   121218 non-null object\n",
      "title                         121220 non-null object\n",
      "image_thumbnail               118108 non-null object\n",
      "dtypes: float64(13), int64(1), object(12)\n",
      "memory usage: 24.0+ MB\n",
      "Index(['Unnamed: 0', 'operation', 'property_type', 'place_name',\n",
      "       'place_with_parent_names', 'country_name', 'state_name', 'geonames_id',\n",
      "       'lat-lon', 'lat', 'lon', 'price', 'currency',\n",
      "       'price_aprox_local_currency', 'price_aprox_usd', 'surface_total_in_m2',\n",
      "       'surface_covered_in_m2', 'price_usd_per_m2', 'price_per_m2', 'floor',\n",
      "       'rooms', 'expenses', 'properati_url', 'description', 'title',\n",
      "       'image_thumbnail'],\n",
      "      dtype='object')\n"
     ]
    },
    {
     "data": {
      "text/html": [
       "<div>\n",
       "<style>\n",
       "    .dataframe thead tr:only-child th {\n",
       "        text-align: right;\n",
       "    }\n",
       "\n",
       "    .dataframe thead th {\n",
       "        text-align: left;\n",
       "    }\n",
       "\n",
       "    .dataframe tbody tr th {\n",
       "        vertical-align: top;\n",
       "    }\n",
       "</style>\n",
       "<table border=\"1\" class=\"dataframe\">\n",
       "  <thead>\n",
       "    <tr style=\"text-align: right;\">\n",
       "      <th></th>\n",
       "      <th>Unnamed: 0</th>\n",
       "      <th>geonames_id</th>\n",
       "      <th>lat</th>\n",
       "      <th>lon</th>\n",
       "      <th>price</th>\n",
       "      <th>price_aprox_local_currency</th>\n",
       "      <th>price_aprox_usd</th>\n",
       "      <th>surface_total_in_m2</th>\n",
       "      <th>surface_covered_in_m2</th>\n",
       "      <th>price_usd_per_m2</th>\n",
       "      <th>price_per_m2</th>\n",
       "      <th>floor</th>\n",
       "      <th>rooms</th>\n",
       "      <th>expenses</th>\n",
       "    </tr>\n",
       "  </thead>\n",
       "  <tbody>\n",
       "    <tr>\n",
       "      <th>count</th>\n",
       "      <td>121220.000000</td>\n",
       "      <td>1.025030e+05</td>\n",
       "      <td>69670.000000</td>\n",
       "      <td>69670.000000</td>\n",
       "      <td>1.008100e+05</td>\n",
       "      <td>1.008100e+05</td>\n",
       "      <td>1.008100e+05</td>\n",
       "      <td>81892.000000</td>\n",
       "      <td>101313.000000</td>\n",
       "      <td>68617.000000</td>\n",
       "      <td>8.765800e+04</td>\n",
       "      <td>7899.000000</td>\n",
       "      <td>47390.000000</td>\n",
       "      <td>1.426200e+04</td>\n",
       "    </tr>\n",
       "    <tr>\n",
       "      <th>mean</th>\n",
       "      <td>60609.500000</td>\n",
       "      <td>3.574442e+06</td>\n",
       "      <td>-34.626210</td>\n",
       "      <td>-59.266290</td>\n",
       "      <td>4.685259e+05</td>\n",
       "      <td>4.229397e+06</td>\n",
       "      <td>2.397006e+05</td>\n",
       "      <td>233.795328</td>\n",
       "      <td>133.050181</td>\n",
       "      <td>2160.086916</td>\n",
       "      <td>6.912216e+03</td>\n",
       "      <td>17.452336</td>\n",
       "      <td>3.080840</td>\n",
       "      <td>5.009234e+03</td>\n",
       "    </tr>\n",
       "    <tr>\n",
       "      <th>std</th>\n",
       "      <td>34993.344153</td>\n",
       "      <td>3.541306e+05</td>\n",
       "      <td>1.980936</td>\n",
       "      <td>2.299922</td>\n",
       "      <td>2.260101e+06</td>\n",
       "      <td>6.904714e+06</td>\n",
       "      <td>3.913239e+05</td>\n",
       "      <td>1782.222147</td>\n",
       "      <td>724.351479</td>\n",
       "      <td>2759.288621</td>\n",
       "      <td>2.837864e+04</td>\n",
       "      <td>120.243621</td>\n",
       "      <td>1.860773</td>\n",
       "      <td>1.204403e+05</td>\n",
       "    </tr>\n",
       "    <tr>\n",
       "      <th>min</th>\n",
       "      <td>0.000000</td>\n",
       "      <td>3.427208e+06</td>\n",
       "      <td>-54.823985</td>\n",
       "      <td>-75.678931</td>\n",
       "      <td>0.000000e+00</td>\n",
       "      <td>0.000000e+00</td>\n",
       "      <td>0.000000e+00</td>\n",
       "      <td>0.000000</td>\n",
       "      <td>0.000000</td>\n",
       "      <td>0.600000</td>\n",
       "      <td>1.510204e+00</td>\n",
       "      <td>1.000000</td>\n",
       "      <td>1.000000</td>\n",
       "      <td>1.000000e+00</td>\n",
       "    </tr>\n",
       "    <tr>\n",
       "      <th>25%</th>\n",
       "      <td>30304.750000</td>\n",
       "      <td>3.430234e+06</td>\n",
       "      <td>-34.669065</td>\n",
       "      <td>-58.727040</td>\n",
       "      <td>1.100000e+05</td>\n",
       "      <td>1.583309e+06</td>\n",
       "      <td>8.973388e+04</td>\n",
       "      <td>50.000000</td>\n",
       "      <td>45.000000</td>\n",
       "      <td>1218.181818</td>\n",
       "      <td>1.550000e+03</td>\n",
       "      <td>1.000000</td>\n",
       "      <td>2.000000</td>\n",
       "      <td>1.000000e+03</td>\n",
       "    </tr>\n",
       "    <tr>\n",
       "      <th>50%</th>\n",
       "      <td>60609.500000</td>\n",
       "      <td>3.433910e+06</td>\n",
       "      <td>-34.597985</td>\n",
       "      <td>-58.480128</td>\n",
       "      <td>1.850000e+05</td>\n",
       "      <td>2.558452e+06</td>\n",
       "      <td>1.450000e+05</td>\n",
       "      <td>84.000000</td>\n",
       "      <td>75.000000</td>\n",
       "      <td>1800.000000</td>\n",
       "      <td>2.213115e+03</td>\n",
       "      <td>3.000000</td>\n",
       "      <td>3.000000</td>\n",
       "      <td>2.000000e+03</td>\n",
       "    </tr>\n",
       "    <tr>\n",
       "      <th>75%</th>\n",
       "      <td>90914.250000</td>\n",
       "      <td>3.836668e+06</td>\n",
       "      <td>-34.441299</td>\n",
       "      <td>-58.395908</td>\n",
       "      <td>4.200000e+05</td>\n",
       "      <td>4.675792e+06</td>\n",
       "      <td>2.650000e+05</td>\n",
       "      <td>200.000000</td>\n",
       "      <td>150.000000</td>\n",
       "      <td>2486.411765</td>\n",
       "      <td>3.355549e+03</td>\n",
       "      <td>6.000000</td>\n",
       "      <td>4.000000</td>\n",
       "      <td>4.000000e+03</td>\n",
       "    </tr>\n",
       "    <tr>\n",
       "      <th>max</th>\n",
       "      <td>121219.000000</td>\n",
       "      <td>6.948895e+06</td>\n",
       "      <td>4.545843</td>\n",
       "      <td>-53.733330</td>\n",
       "      <td>6.500000e+08</td>\n",
       "      <td>8.212711e+08</td>\n",
       "      <td>4.654544e+07</td>\n",
       "      <td>200000.000000</td>\n",
       "      <td>187000.000000</td>\n",
       "      <td>206333.333333</td>\n",
       "      <td>4.000000e+06</td>\n",
       "      <td>3150.000000</td>\n",
       "      <td>32.000000</td>\n",
       "      <td>1.000150e+07</td>\n",
       "    </tr>\n",
       "  </tbody>\n",
       "</table>\n",
       "</div>"
      ],
      "text/plain": [
       "          Unnamed: 0   geonames_id           lat           lon         price  \\\n",
       "count  121220.000000  1.025030e+05  69670.000000  69670.000000  1.008100e+05   \n",
       "mean    60609.500000  3.574442e+06    -34.626210    -59.266290  4.685259e+05   \n",
       "std     34993.344153  3.541306e+05      1.980936      2.299922  2.260101e+06   \n",
       "min         0.000000  3.427208e+06    -54.823985    -75.678931  0.000000e+00   \n",
       "25%     30304.750000  3.430234e+06    -34.669065    -58.727040  1.100000e+05   \n",
       "50%     60609.500000  3.433910e+06    -34.597985    -58.480128  1.850000e+05   \n",
       "75%     90914.250000  3.836668e+06    -34.441299    -58.395908  4.200000e+05   \n",
       "max    121219.000000  6.948895e+06      4.545843    -53.733330  6.500000e+08   \n",
       "\n",
       "       price_aprox_local_currency  price_aprox_usd  surface_total_in_m2  \\\n",
       "count                1.008100e+05     1.008100e+05         81892.000000   \n",
       "mean                 4.229397e+06     2.397006e+05           233.795328   \n",
       "std                  6.904714e+06     3.913239e+05          1782.222147   \n",
       "min                  0.000000e+00     0.000000e+00             0.000000   \n",
       "25%                  1.583309e+06     8.973388e+04            50.000000   \n",
       "50%                  2.558452e+06     1.450000e+05            84.000000   \n",
       "75%                  4.675792e+06     2.650000e+05           200.000000   \n",
       "max                  8.212711e+08     4.654544e+07        200000.000000   \n",
       "\n",
       "       surface_covered_in_m2  price_usd_per_m2  price_per_m2        floor  \\\n",
       "count          101313.000000      68617.000000  8.765800e+04  7899.000000   \n",
       "mean              133.050181       2160.086916  6.912216e+03    17.452336   \n",
       "std               724.351479       2759.288621  2.837864e+04   120.243621   \n",
       "min                 0.000000          0.600000  1.510204e+00     1.000000   \n",
       "25%                45.000000       1218.181818  1.550000e+03     1.000000   \n",
       "50%                75.000000       1800.000000  2.213115e+03     3.000000   \n",
       "75%               150.000000       2486.411765  3.355549e+03     6.000000   \n",
       "max            187000.000000     206333.333333  4.000000e+06  3150.000000   \n",
       "\n",
       "              rooms      expenses  \n",
       "count  47390.000000  1.426200e+04  \n",
       "mean       3.080840  5.009234e+03  \n",
       "std        1.860773  1.204403e+05  \n",
       "min        1.000000  1.000000e+00  \n",
       "25%        2.000000  1.000000e+03  \n",
       "50%        3.000000  2.000000e+03  \n",
       "75%        4.000000  4.000000e+03  \n",
       "max       32.000000  1.000150e+07  "
      ]
     },
     "execution_count": 176,
     "metadata": {},
     "output_type": "execute_result"
    }
   ],
   "source": [
    "% matplotlib inline\n",
    "import matplotlib.pyplot as plt\n",
    "import datetime\n",
    "import numpy as np\n",
    "import pandas as pd\n",
    "import seaborn as sns\n",
    "\n",
    "# Para eliminar el mensaje de error que sale al ejecutar uno de los comandos.\n",
    "import warnings\n",
    "warnings.simplefilter(action='ignore', category=FutureWarning)\n",
    "\n",
    "# Cargamos el dataset de Properati.\n",
    "df = pd.read_csv('data/properatti.csv')\n",
    "\n",
    "# Información general del dataset.\n",
    "df.info()\n",
    "\n",
    "# Variables relevadas.\n",
    "print(df.columns)\n",
    "\n",
    "# Muestra de datos.\n",
    "df.sample(10)\n",
    "\n",
    "# Principales estadísticos.\n",
    "df.describe()"
   ]
  },
  {
   "cell_type": "markdown",
   "metadata": {},
   "source": [
    "## Corrección del Dataset"
   ]
  },
  {
   "cell_type": "code",
   "execution_count": 177,
   "metadata": {
    "collapsed": true
   },
   "outputs": [],
   "source": [
    "# Eliminamos la primera columna dado que el dataframe ya tiene indices enteros.\n",
    "del(df['Unnamed: 0'])"
   ]
  },
  {
   "cell_type": "code",
   "execution_count": 178,
   "metadata": {},
   "outputs": [
    {
     "name": "stdout",
     "output_type": "stream",
     "text": [
      "Datos faltantes en % por cada variable\n",
      "operation                      0.000000\n",
      "property_type                  0.000000\n",
      "place_name                     0.018974\n",
      "place_with_parent_names        0.000000\n",
      "country_name                   0.000000\n",
      "state_name                     0.000000\n",
      "geonames_id                   15.440521\n",
      "lat-lon                       42.525986\n",
      "lat                           42.525986\n",
      "lon                           42.525986\n",
      "price                         16.837156\n",
      "currency                      16.837981\n",
      "price_aprox_local_currency    16.837156\n",
      "price_aprox_usd               16.837156\n",
      "surface_total_in_m2           32.443491\n",
      "surface_covered_in_m2         16.422208\n",
      "price_usd_per_m2              43.394654\n",
      "price_per_m2                  27.686850\n",
      "floor                         93.483749\n",
      "rooms                         60.905791\n",
      "expenses                      88.234615\n",
      "properati_url                  0.000000\n",
      "description                    0.001650\n",
      "title                          0.000000\n",
      "image_thumbnail                2.567233\n",
      "dtype: float64\n"
     ]
    }
   ],
   "source": [
    "# Definimos una funcion para chequear los datos faltantes en cada variable.\n",
    "def check_missing(df):\n",
    "    print('Datos faltantes en % por cada variable') \n",
    "    print(df.isnull().sum(axis=0) / len(df) * 100)\n",
    "   \n",
    "check_missing(df)"
   ]
  },
  {
   "cell_type": "code",
   "execution_count": 179,
   "metadata": {},
   "outputs": [
    {
     "data": {
      "text/html": [
       "<div>\n",
       "<style>\n",
       "    .dataframe thead tr:only-child th {\n",
       "        text-align: right;\n",
       "    }\n",
       "\n",
       "    .dataframe thead th {\n",
       "        text-align: left;\n",
       "    }\n",
       "\n",
       "    .dataframe tbody tr th {\n",
       "        vertical-align: top;\n",
       "    }\n",
       "</style>\n",
       "<table border=\"1\" class=\"dataframe\">\n",
       "  <thead>\n",
       "    <tr style=\"text-align: right;\">\n",
       "      <th></th>\n",
       "      <th>operation</th>\n",
       "      <th>property_type</th>\n",
       "      <th>place_name</th>\n",
       "      <th>place_with_parent_names</th>\n",
       "      <th>country_name</th>\n",
       "      <th>state_name</th>\n",
       "      <th>geonames_id</th>\n",
       "      <th>lat-lon</th>\n",
       "      <th>lat</th>\n",
       "      <th>lon</th>\n",
       "      <th>...</th>\n",
       "      <th>surface_covered_in_m2</th>\n",
       "      <th>price_usd_per_m2</th>\n",
       "      <th>price_per_m2</th>\n",
       "      <th>floor</th>\n",
       "      <th>rooms</th>\n",
       "      <th>expenses</th>\n",
       "      <th>properati_url</th>\n",
       "      <th>description</th>\n",
       "      <th>title</th>\n",
       "      <th>image_thumbnail</th>\n",
       "    </tr>\n",
       "  </thead>\n",
       "  <tbody>\n",
       "  </tbody>\n",
       "</table>\n",
       "<p>0 rows × 25 columns</p>\n",
       "</div>"
      ],
      "text/plain": [
       "Empty DataFrame\n",
       "Columns: [operation, property_type, place_name, place_with_parent_names, country_name, state_name, geonames_id, lat-lon, lat, lon, price, currency, price_aprox_local_currency, price_aprox_usd, surface_total_in_m2, surface_covered_in_m2, price_usd_per_m2, price_per_m2, floor, rooms, expenses, properati_url, description, title, image_thumbnail]\n",
       "Index: []\n",
       "\n",
       "[0 rows x 25 columns]"
      ]
     },
     "execution_count": 179,
     "metadata": {},
     "output_type": "execute_result"
    }
   ],
   "source": [
    "# Corrección de lugares incorrectos.\n",
    "import re\n",
    "\n",
    "# Rastreamos las localidades que tengan 3 o más dígitos seguidos y laa establecemos en None para luego corregirlas.\n",
    "# Por ejemplo place_name = 'coordenadas 34.255511'\n",
    "def wrong_places(place_name):\n",
    "    if re.compile('\\d{3,}').findall(str(place_name)):\n",
    "        return None\n",
    "    else:\n",
    "        return place_name\n",
    "    \n",
    "df['place_name'] = df['place_name'].apply(wrong_places)\n",
    "\n",
    "# Chequeo de la corrección.\n",
    "df[df['place_name'] == 'coordenadas 34.255511']"
   ]
  },
  {
   "cell_type": "code",
   "execution_count": 180,
   "metadata": {},
   "outputs": [],
   "source": [
    "# Incorporamos un nuevo dataframe en el cual ya realizamos la extraccion de nuevos features de la descripción\n",
    "# y el place_name splitteado.\n",
    "metadata_df = pd.read_csv('data/properatti-metadata.csv')\n",
    "\n",
    "# Hacemos un join con ambos dataframes dado que ambos comparten el mismo índice.\n",
    "df = df.join(metadata_df)\n",
    "\n",
    "# Eliminamos nuevamente la columna redundante con los indices que agregó el segundo dataframe.\n",
    "del(df['Unnamed: 0'])"
   ]
  },
  {
   "cell_type": "code",
   "execution_count": 181,
   "metadata": {
    "collapsed": true
   },
   "outputs": [],
   "source": [
    "# Completamos los faltantes en la variable place_name con los datos extraídos.\n",
    "df['place_name'].fillna(value=df['place_name_extracted'], inplace=True)\n",
    "\n",
    "# Eliminamos las columnas auxiliares que utilizamos en el splitteo.\n",
    "df = df.drop(['country_name_extracted', 'state_name_extracted', 'place_name_extracted'], axis=1)"
   ]
  },
  {
   "cell_type": "code",
   "execution_count": 182,
   "metadata": {
    "scrolled": true
   },
   "outputs": [
    {
     "name": "stdout",
     "output_type": "stream",
     "text": [
      "Datos faltantes en % por cada variable\n",
      "operation                      0.000000\n",
      "property_type                  0.000000\n",
      "place_name                     0.000000\n",
      "place_with_parent_names        0.000000\n",
      "country_name                   0.000000\n",
      "state_name                     0.000000\n",
      "geonames_id                   15.440521\n",
      "lat-lon                       42.525986\n",
      "lat                           42.525986\n",
      "lon                           42.525986\n",
      "price                         16.837156\n",
      "currency                      16.837981\n",
      "price_aprox_local_currency    16.837156\n",
      "price_aprox_usd               16.837156\n",
      "surface_total_in_m2           32.443491\n",
      "surface_covered_in_m2         16.422208\n",
      "price_usd_per_m2              43.394654\n",
      "price_per_m2                  27.686850\n",
      "floor                         93.483749\n",
      "rooms                         60.905791\n",
      "expenses                      88.234615\n",
      "properati_url                  0.000000\n",
      "description                    0.001650\n",
      "title                          0.000000\n",
      "image_thumbnail                2.567233\n",
      "ambients                      64.358192\n",
      "lavadero                       0.000000\n",
      "pileta_piscina                 0.000000\n",
      "terraza                        0.000000\n",
      "nuevo                          0.000000\n",
      "refaccionado                   0.000000\n",
      "AC                             0.000000\n",
      "living_comedor                 0.000000\n",
      "cocina_comedor                 0.000000\n",
      "cocina_integrada               0.000000\n",
      "parrilla                       0.000000\n",
      "balcon                         0.000000\n",
      "subte                          0.000000\n",
      "cochera fija                   0.000000\n",
      "baulera                        0.000000\n",
      "dtype: float64\n"
     ]
    }
   ],
   "source": [
    "# Chequeamos nuevamente las variables faltantes\n",
    "check_missing(df)"
   ]
  },
  {
   "cell_type": "code",
   "execution_count": 183,
   "metadata": {
    "collapsed": true
   },
   "outputs": [],
   "source": [
    "# Creamos una pivot table para la media de surface_covered_in_m2 agrupada por place_name y property_type.\n",
    "flattened_pivot_surface = pd.DataFrame(df.pivot_table(values = 'surface_covered_in_m2', index = ['place_name','property_type'],\n",
    "                                aggfunc = 'mean').to_records())"
   ]
  },
  {
   "cell_type": "code",
   "execution_count": 184,
   "metadata": {
    "collapsed": true
   },
   "outputs": [],
   "source": [
    "# Lo mergeamos con el dataframe original.\n",
    "cleaned_df = df.merge(flattened_pivot_surface, how='left', on=['place_name','property_type'])"
   ]
  },
  {
   "cell_type": "code",
   "execution_count": 185,
   "metadata": {
    "collapsed": true
   },
   "outputs": [],
   "source": [
    "# Imputamos las medias agrupadas y eliminamos las variables redundantes\n",
    "cleaned_df.surface_covered_in_m2_x.fillna(cleaned_df.surface_covered_in_m2_y, inplace=True)\n",
    "del cleaned_df['surface_covered_in_m2_y']\n",
    "cleaned_df['surface_covered_in_m2'] = cleaned_df['surface_covered_in_m2_x']\n",
    "del cleaned_df['surface_covered_in_m2_x']"
   ]
  },
  {
   "cell_type": "code",
   "execution_count": 186,
   "metadata": {
    "scrolled": false
   },
   "outputs": [
    {
     "name": "stdout",
     "output_type": "stream",
     "text": [
      "Datos faltantes en % por cada variable\n",
      "operation                      0.000000\n",
      "property_type                  0.000000\n",
      "place_name                     0.000000\n",
      "place_with_parent_names        0.000000\n",
      "country_name                   0.000000\n",
      "state_name                     0.000000\n",
      "geonames_id                   15.440521\n",
      "lat-lon                       42.525986\n",
      "lat                           42.525986\n",
      "lon                           42.525986\n",
      "price                         16.837156\n",
      "currency                      16.837981\n",
      "price_aprox_local_currency    16.837156\n",
      "price_aprox_usd               16.837156\n",
      "surface_total_in_m2           32.443491\n",
      "price_usd_per_m2              43.394654\n",
      "price_per_m2                  27.686850\n",
      "floor                         93.483749\n",
      "rooms                         60.905791\n",
      "expenses                      88.234615\n",
      "properati_url                  0.000000\n",
      "description                    0.001650\n",
      "title                          0.000000\n",
      "image_thumbnail                2.567233\n",
      "ambients                      64.358192\n",
      "lavadero                       0.000000\n",
      "pileta_piscina                 0.000000\n",
      "terraza                        0.000000\n",
      "nuevo                          0.000000\n",
      "refaccionado                   0.000000\n",
      "AC                             0.000000\n",
      "living_comedor                 0.000000\n",
      "cocina_comedor                 0.000000\n",
      "cocina_integrada               0.000000\n",
      "parrilla                       0.000000\n",
      "balcon                         0.000000\n",
      "subte                          0.000000\n",
      "cochera fija                   0.000000\n",
      "baulera                        0.000000\n",
      "surface_covered_in_m2          0.298631\n",
      "dtype: float64\n"
     ]
    }
   ],
   "source": [
    "# Chequeamos nuevamente las variables faltantes.\n",
    "check_missing(cleaned_df)"
   ]
  },
  {
   "cell_type": "markdown",
   "metadata": {},
   "source": [
    "## Construcción de nuevos features"
   ]
  },
  {
   "cell_type": "code",
   "execution_count": 187,
   "metadata": {
    "collapsed": true
   },
   "outputs": [],
   "source": [
    "# TODO (manu): Acá iria la selección de features que hizo Manu con WordCloud, explicar cuales fueros los criterios."
   ]
  },
  {
   "cell_type": "code",
   "execution_count": 188,
   "metadata": {
    "collapsed": true
   },
   "outputs": [],
   "source": [
    "# Generamos las dummies para property_type\n",
    "cleaned_df = pd.get_dummies(cleaned_df, columns=['property_type'])"
   ]
  },
  {
   "cell_type": "code",
   "execution_count": 189,
   "metadata": {},
   "outputs": [
    {
     "name": "stdout",
     "output_type": "stream",
     "text": [
      "<class 'pandas.core.frame.DataFrame'>\n",
      "Int64Index: 121220 entries, 0 to 121219\n",
      "Data columns (total 43 columns):\n",
      "operation                     121220 non-null object\n",
      "place_name                    121220 non-null object\n",
      "place_with_parent_names       121220 non-null object\n",
      "country_name                  121220 non-null object\n",
      "state_name                    121220 non-null object\n",
      "geonames_id                   102503 non-null float64\n",
      "lat-lon                       69670 non-null object\n",
      "lat                           69670 non-null float64\n",
      "lon                           69670 non-null float64\n",
      "price                         100810 non-null float64\n",
      "currency                      100809 non-null object\n",
      "price_aprox_local_currency    100810 non-null float64\n",
      "price_aprox_usd               100810 non-null float64\n",
      "surface_total_in_m2           81892 non-null float64\n",
      "price_usd_per_m2              68617 non-null float64\n",
      "price_per_m2                  87658 non-null float64\n",
      "floor                         7899 non-null float64\n",
      "rooms                         47390 non-null float64\n",
      "expenses                      14262 non-null float64\n",
      "properati_url                 121220 non-null object\n",
      "description                   121218 non-null object\n",
      "title                         121220 non-null object\n",
      "image_thumbnail               118108 non-null object\n",
      "ambients                      43205 non-null float64\n",
      "lavadero                      121220 non-null int64\n",
      "pileta_piscina                121220 non-null int64\n",
      "terraza                       121220 non-null int64\n",
      "nuevo                         121220 non-null int64\n",
      "refaccionado                  121220 non-null int64\n",
      "AC                            121220 non-null int64\n",
      "living_comedor                121220 non-null int64\n",
      "cocina_comedor                121220 non-null int64\n",
      "cocina_integrada              121220 non-null int64\n",
      "parrilla                      121220 non-null int64\n",
      "balcon                        121220 non-null int64\n",
      "subte                         121220 non-null int64\n",
      "cochera fija                  121220 non-null int64\n",
      "baulera                       121220 non-null int64\n",
      "surface_covered_in_m2         120858 non-null float64\n",
      "property_type_PH              121220 non-null uint8\n",
      "property_type_apartment       121220 non-null uint8\n",
      "property_type_house           121220 non-null uint8\n",
      "property_type_store           121220 non-null uint8\n",
      "dtypes: float64(14), int64(14), object(11), uint8(4)\n",
      "memory usage: 37.5+ MB\n"
     ]
    }
   ],
   "source": [
    "cleaned_df.info()"
   ]
  },
  {
   "cell_type": "markdown",
   "metadata": {},
   "source": [
    "## Modelo de regresión lineal"
   ]
  },
  {
   "cell_type": "markdown",
   "metadata": {
    "collapsed": true
   },
   "source": [
    "### Construcción de un pipeline general para los distinos modelos de regresión"
   ]
  },
  {
   "cell_type": "code",
   "execution_count": 214,
   "metadata": {
    "collapsed": true
   },
   "outputs": [],
   "source": [
    "from sklearn import preprocessing\n",
    "\n",
    "# Definimos una función para filtrar un subconjunto de los datos, basado en los features que son de interés.\n",
    "def filter_by_features(features, input_df):\n",
    "    filtered_df = input_df\n",
    "    features_list = [(key, value) for key, value in features.items()]\n",
    "    for feature, feature_value in features_list:\n",
    "        filtered_df = filtered_df[filtered_df[feature] == feature_value]\n",
    "        \n",
    "    return filtered_df\n",
    "\n",
    "# Definimos una funcion para corregir los outliers en los features seleccionados.\n",
    "def fix_outliers(features_to_fix, input_df):\n",
    "    fixed_df = input_df\n",
    "    for feature in features_to_fix:\n",
    "        fixed_df = fixed_df[((fixed_df[feature] - fixed_df[feature].mean()) / fixed_df[feature].std()).abs() < 2.5]\n",
    "        \n",
    "    return fixed_df\n",
    "\n",
    "# Funcion para normalizar los features seleccionados con un Min-Max.\n",
    "def normalize_features(features_to_normalize, input_df):\n",
    "    scaler = preprocessing.MinMaxScaler()\n",
    "    normalized_df = input_df\n",
    "    \n",
    "    for feature in features_to_normalize:\n",
    "        normalized_df[feature] = scaler.fit_transform(normalized_df[[feature]])\n",
    "    \n",
    "    return normalized_df"
   ]
  },
  {
   "cell_type": "markdown",
   "metadata": {},
   "source": [
    "Seleccionamos Recoleta con las siguientes caracteristicas para un primer análisis."
   ]
  },
  {
   "cell_type": "code",
   "execution_count": 215,
   "metadata": {},
   "outputs": [
    {
     "name": "stdout",
     "output_type": "stream",
     "text": [
      "Cantidad de muestras en el barrio seleccionado: (143, 43)\n"
     ]
    }
   ],
   "source": [
    "# Subconjunto del dataset sobre el que queremos hacer el analisis.\n",
    "features_to_filter = {\n",
    "    'place_name' : 'Recoleta',\n",
    "    'property_type_apartment': 1,\n",
    "    'nuevo': 1,\n",
    "    'refaccionado': 0\n",
    "}\n",
    "\n",
    "# Seleccionamos un barrio con las características dadas.\n",
    "filtered_df = filter_by_features(features_to_filter, cleaned_df)\n",
    "print(\"Cantidad de muestras en el barrio seleccionado:\", filtered_df.shape)"
   ]
  },
  {
   "cell_type": "code",
   "execution_count": 216,
   "metadata": {},
   "outputs": [
    {
     "name": "stdout",
     "output_type": "stream",
     "text": [
      "Cantidad de muestras luego de eliminar las que no pudimos imputar (52, 11)\n"
     ]
    }
   ],
   "source": [
    "# Variable objetivo.\n",
    "target_feature = ['price_usd_per_m2']\n",
    "\n",
    "# Seleccion de features para el modelo.\n",
    "features_selection = ['surface_covered_in_m2', 'property_type_apartment', 'ambients','nuevo','pileta_piscina', 'subte', 'parrilla', 'balcon', 'AC', 'terraza']\n",
    "\n",
    "# Eliminamos las filas en la que no pudimos imputar datos y construimos un dataframe con todos los datos.\n",
    "filtered_df = filtered_df[features_selection + target_feature].dropna()\n",
    "print(\"Cantidad de muestras luego de eliminar las que no pudimos imputar\", filtered_df.shape)"
   ]
  },
  {
   "cell_type": "code",
   "execution_count": 217,
   "metadata": {},
   "outputs": [
    {
     "name": "stdout",
     "output_type": "stream",
     "text": [
      "Mapa de calor de correlaciones\n"
     ]
    },
    {
     "data": {
      "image/png": "[encoded data removed]",
      "text/plain": [
       "<matplotlib.figure.Figure at 0x7f355874f128>"
      ]
     },
     "metadata": {},
     "output_type": "display_data"
    }
   ],
   "source": [
    "print(\"Mapa de calor de correlaciones\")\n",
    "sns.heatmap(filtered_df.corr());"
   ]
  },
  {
   "cell_type": "code",
   "execution_count": 224,
   "metadata": {
    "scrolled": true
   },
   "outputs": [
    {
     "name": "stdout",
     "output_type": "stream",
     "text": [
      "Boxplot previo a la correccion de outliers surface_covered_in_m2\n"
     ]
    },
    {
     "data": {
      "image/png": "[encoded data removed]",
      "text/plain": [
       "<matplotlib.figure.Figure at 0x7f35589b5630>"
      ]
     },
     "metadata": {},
     "output_type": "display_data"
    }
   ],
   "source": [
    "# Detectando outliers.\n",
    "print(\"Boxplot previo a la correccion de outliers\", 'surface_covered_in_m2')\n",
    "sns.boxplot(x = 'surface_covered_in_m2', data = filtered_df);"
   ]
  },
  {
   "cell_type": "code",
   "execution_count": 225,
   "metadata": {
    "scrolled": true
   },
   "outputs": [
    {
     "name": "stdout",
     "output_type": "stream",
     "text": [
      "Boxplot luego de corregir outliers surface_covered_in_m2\n"
     ]
    },
    {
     "data": {
      "image/png": "[encoded data removed]",
      "text/plain": [
       "<matplotlib.figure.Figure at 0x7f354c2a2e10>"
      ]
     },
     "metadata": {},
     "output_type": "display_data"
    }
   ],
   "source": [
    "# Features en los que vamos a corregir los outliers.\n",
    "features_to_fix = ['surface_covered_in_m2', 'price_usd_per_m2', 'ambients']\n",
    "\n",
    "# Corrigiendo outliers\n",
    "fixed_df = fix_outliers(features_to_fix, filtered_df)\n",
    "\n",
    "# Luego de filtrar outliers\n",
    "print(\"Boxplot luego de corregir outliers\", 'surface_covered_in_m2')\n",
    "sns.boxplot(x = 'surface_covered_in_m2', data = fixed_df);"
   ]
  },
  {
   "cell_type": "code",
   "execution_count": 226,
   "metadata": {},
   "outputs": [
    {
     "data": {
      "text/html": [
       "<div>\n",
       "<style>\n",
       "    .dataframe thead tr:only-child th {\n",
       "        text-align: right;\n",
       "    }\n",
       "\n",
       "    .dataframe thead th {\n",
       "        text-align: left;\n",
       "    }\n",
       "\n",
       "    .dataframe tbody tr th {\n",
       "        vertical-align: top;\n",
       "    }\n",
       "</style>\n",
       "<table border=\"1\" class=\"dataframe\">\n",
       "  <thead>\n",
       "    <tr style=\"text-align: right;\">\n",
       "      <th></th>\n",
       "      <th>surface_covered_in_m2</th>\n",
       "      <th>property_type_apartment</th>\n",
       "      <th>ambients</th>\n",
       "      <th>nuevo</th>\n",
       "      <th>pileta_piscina</th>\n",
       "      <th>subte</th>\n",
       "      <th>parrilla</th>\n",
       "      <th>balcon</th>\n",
       "      <th>AC</th>\n",
       "      <th>terraza</th>\n",
       "      <th>price_usd_per_m2</th>\n",
       "    </tr>\n",
       "  </thead>\n",
       "  <tbody>\n",
       "    <tr>\n",
       "      <th>100236</th>\n",
       "      <td>0.089202</td>\n",
       "      <td>1</td>\n",
       "      <td>0.00</td>\n",
       "      <td>1</td>\n",
       "      <td>0</td>\n",
       "      <td>0</td>\n",
       "      <td>0</td>\n",
       "      <td>0</td>\n",
       "      <td>0</td>\n",
       "      <td>0</td>\n",
       "      <td>2066.666667</td>\n",
       "    </tr>\n",
       "    <tr>\n",
       "      <th>77210</th>\n",
       "      <td>0.544601</td>\n",
       "      <td>1</td>\n",
       "      <td>0.75</td>\n",
       "      <td>1</td>\n",
       "      <td>0</td>\n",
       "      <td>0</td>\n",
       "      <td>0</td>\n",
       "      <td>1</td>\n",
       "      <td>0</td>\n",
       "      <td>0</td>\n",
       "      <td>3416.666667</td>\n",
       "    </tr>\n",
       "    <tr>\n",
       "      <th>31255</th>\n",
       "      <td>0.507809</td>\n",
       "      <td>1</td>\n",
       "      <td>0.75</td>\n",
       "      <td>1</td>\n",
       "      <td>0</td>\n",
       "      <td>0</td>\n",
       "      <td>0</td>\n",
       "      <td>0</td>\n",
       "      <td>1</td>\n",
       "      <td>0</td>\n",
       "      <td>3008.620690</td>\n",
       "    </tr>\n",
       "    <tr>\n",
       "      <th>28917</th>\n",
       "      <td>0.276995</td>\n",
       "      <td>1</td>\n",
       "      <td>0.50</td>\n",
       "      <td>1</td>\n",
       "      <td>0</td>\n",
       "      <td>1</td>\n",
       "      <td>0</td>\n",
       "      <td>0</td>\n",
       "      <td>0</td>\n",
       "      <td>0</td>\n",
       "      <td>2424.657534</td>\n",
       "    </tr>\n",
       "    <tr>\n",
       "      <th>28820</th>\n",
       "      <td>0.544601</td>\n",
       "      <td>1</td>\n",
       "      <td>0.75</td>\n",
       "      <td>1</td>\n",
       "      <td>0</td>\n",
       "      <td>0</td>\n",
       "      <td>0</td>\n",
       "      <td>0</td>\n",
       "      <td>0</td>\n",
       "      <td>0</td>\n",
       "      <td>3583.333333</td>\n",
       "    </tr>\n",
       "    <tr>\n",
       "      <th>18023</th>\n",
       "      <td>0.619718</td>\n",
       "      <td>1</td>\n",
       "      <td>1.00</td>\n",
       "      <td>1</td>\n",
       "      <td>0</td>\n",
       "      <td>1</td>\n",
       "      <td>0</td>\n",
       "      <td>1</td>\n",
       "      <td>0</td>\n",
       "      <td>0</td>\n",
       "      <td>2466.216216</td>\n",
       "    </tr>\n",
       "    <tr>\n",
       "      <th>60566</th>\n",
       "      <td>0.169014</td>\n",
       "      <td>1</td>\n",
       "      <td>0.25</td>\n",
       "      <td>1</td>\n",
       "      <td>0</td>\n",
       "      <td>0</td>\n",
       "      <td>0</td>\n",
       "      <td>1</td>\n",
       "      <td>1</td>\n",
       "      <td>0</td>\n",
       "      <td>4500.000000</td>\n",
       "    </tr>\n",
       "    <tr>\n",
       "      <th>64068</th>\n",
       "      <td>0.098592</td>\n",
       "      <td>1</td>\n",
       "      <td>0.00</td>\n",
       "      <td>1</td>\n",
       "      <td>0</td>\n",
       "      <td>0</td>\n",
       "      <td>0</td>\n",
       "      <td>0</td>\n",
       "      <td>0</td>\n",
       "      <td>0</td>\n",
       "      <td>2636.363636</td>\n",
       "    </tr>\n",
       "    <tr>\n",
       "      <th>118675</th>\n",
       "      <td>0.990610</td>\n",
       "      <td>1</td>\n",
       "      <td>1.00</td>\n",
       "      <td>1</td>\n",
       "      <td>0</td>\n",
       "      <td>0</td>\n",
       "      <td>0</td>\n",
       "      <td>0</td>\n",
       "      <td>1</td>\n",
       "      <td>0</td>\n",
       "      <td>4888.888889</td>\n",
       "    </tr>\n",
       "    <tr>\n",
       "      <th>55136</th>\n",
       "      <td>0.206573</td>\n",
       "      <td>1</td>\n",
       "      <td>0.25</td>\n",
       "      <td>1</td>\n",
       "      <td>1</td>\n",
       "      <td>0</td>\n",
       "      <td>0</td>\n",
       "      <td>1</td>\n",
       "      <td>0</td>\n",
       "      <td>1</td>\n",
       "      <td>3088.235294</td>\n",
       "    </tr>\n",
       "  </tbody>\n",
       "</table>\n",
       "</div>"
      ],
      "text/plain": [
       "        surface_covered_in_m2  property_type_apartment  ambients  nuevo  \\\n",
       "100236               0.089202                        1      0.00      1   \n",
       "77210                0.544601                        1      0.75      1   \n",
       "31255                0.507809                        1      0.75      1   \n",
       "28917                0.276995                        1      0.50      1   \n",
       "28820                0.544601                        1      0.75      1   \n",
       "18023                0.619718                        1      1.00      1   \n",
       "60566                0.169014                        1      0.25      1   \n",
       "64068                0.098592                        1      0.00      1   \n",
       "118675               0.990610                        1      1.00      1   \n",
       "55136                0.206573                        1      0.25      1   \n",
       "\n",
       "        pileta_piscina  subte  parrilla  balcon  AC  terraza  price_usd_per_m2  \n",
       "100236               0      0         0       0   0        0       2066.666667  \n",
       "77210                0      0         0       1   0        0       3416.666667  \n",
       "31255                0      0         0       0   1        0       3008.620690  \n",
       "28917                0      1         0       0   0        0       2424.657534  \n",
       "28820                0      0         0       0   0        0       3583.333333  \n",
       "18023                0      1         0       1   0        0       2466.216216  \n",
       "60566                0      0         0       1   1        0       4500.000000  \n",
       "64068                0      0         0       0   0        0       2636.363636  \n",
       "118675               0      0         0       0   1        0       4888.888889  \n",
       "55136                1      0         0       1   0        1       3088.235294  "
      ]
     },
     "execution_count": 226,
     "metadata": {},
     "output_type": "execute_result"
    }
   ],
   "source": [
    "# Features que necesitamos normalizar.\n",
    "features_to_normalize = ['surface_covered_in_m2', 'ambients']\n",
    "\n",
    "# Normalizando los datos.\n",
    "normalized_df = normalize_features(features_to_normalize, fixed_df)\n",
    "\n",
    "# Chequeamos que se hayan normalizado los valores.\n",
    "normalized_df.sample(10)"
   ]
  },
  {
   "cell_type": "code",
   "execution_count": 227,
   "metadata": {
    "collapsed": true
   },
   "outputs": [],
   "source": [
    "# Definimos una funcion para dejar el dataframe listo para entrenar y predecir\n",
    "def get_training_df(input_df, features_to_filter, features_selection, target_feature, features_to_fix, features_to_normalize):\n",
    "    filtered_df = filter_by_features(features_to_filter, input_df)\n",
    "    filtered_df = filtered_df[features_selection + target_feature].dropna()\n",
    "    fixed_df = fix_outliers(features_to_fix, filtered_df)\n",
    "    training_df = normalize_features(features_to_normalize, fixed_df)\n",
    "    \n",
    "    return training_df"
   ]
  },
  {
   "cell_type": "code",
   "execution_count": 249,
   "metadata": {},
   "outputs": [],
   "source": [
    "from sklearn.linear_model import LinearRegression\n",
    "from sklearn.model_selection import train_test_split\n",
    "\n",
    "from sklearn.metrics import mean_squared_error, r2_score\n",
    "from sklearn import metrics\n",
    "from sklearn.cross_validation import cross_val_score\n",
    "\n",
    "# Definimos una funcion para imprimir los parametros del modelo.\n",
    "def model_parameters(model, X):\n",
    "    model_parameters = {\n",
    "        'intercept' : model.intercept_\n",
    "    }\n",
    "    \n",
    "    # Solo para Ridge o LASSO.\n",
    "    if hasattr(model, 'alpha_'):\n",
    "        model_parameters['alpha'] = model.alpha_\n",
    "        \n",
    "    if model.coef_.ndim == 1:\n",
    "        # En LASSO los coeficients estan en un array de m x 1\n",
    "        model_parameters['coeficients'] = dict(zip(X.columns, model.coef_))           \n",
    "    else:\n",
    "        # En Lineal y Ridge los coeficientes estan en un array dentro de otro array.\n",
    "        model_parameters['coeficients'] = dict(zip(X.columns, model.coef_[0]))\n",
    "    \n",
    "    print('\\nParametros:')\n",
    "    [print(key, value) for key, value in model_parameters.items()]\n",
    "    return model_parameters\n",
    "\n",
    "# Definimos una funcion para imprimir las funciones de pérdida.\n",
    "def loss_functions(model, X, y, y_test, y_predicted):\n",
    "    loss_functions = {\n",
    "        'MAE' :  metrics.mean_absolute_error(y_test, y_predicted),\n",
    "        'MSE' : metrics.mean_squared_error(y_test, y_predicted),\n",
    "        'RMSE' : np.sqrt(metrics.mean_squared_error(y_test, y_predicted)),\n",
    "        'Score' : model.score(X, y)\n",
    "    }\n",
    "    \n",
    "    print('\\nFunciones de pérdida:')    \n",
    "    [print(key, value) for key, value in loss_functions.items()]\n",
    "    return loss_functions"
   ]
  },
  {
   "cell_type": "markdown",
   "metadata": {},
   "source": [
    "## Modelo de regresión lineal simple"
   ]
  },
  {
   "cell_type": "code",
   "execution_count": 250,
   "metadata": {},
   "outputs": [
    {
     "name": "stdout",
     "output_type": "stream",
     "text": [
      "\n",
      "Parametros:\n",
      "intercept [ 2342.51742332]\n",
      "coeficients {'surface_covered_in_m2': 1840.6192447527387, 'property_type_apartment': 4.5474735088646412e-13, 'ambients': -372.15892859673932, 'nuevo': 7.3896444519050419e-13, 'pileta_piscina': 30.780234934752976, 'subte': -170.16767372454237, 'parrilla': 0.0, 'balcon': 465.7340054316511, 'AC': 1186.0374559617362, 'terraza': -37.978453238700716}\n",
      "\n",
      "Funciones de pérdida:\n",
      "MAE 618.033766369\n",
      "MSE 546038.639306\n",
      "RMSE 738.944273478\n",
      "Score 0.593200848702\n"
     ]
    }
   ],
   "source": [
    "linreg = LinearRegression()\n",
    "training_df = get_training_df(cleaned_df, features_to_filter, features_selection, target_feature, features_to_fix, features_to_normalize)\n",
    "\n",
    "# Armamos un primer modelo con los datos anteriores.\n",
    "X = training_df[features_selection]\n",
    "y = training_df[target_feature]\n",
    "\n",
    "X_train, X_test, y_train, y_test = train_test_split(X, y, test_size=0.3, random_state=53)\n",
    "\n",
    "model = linreg.fit(X_train, y_train)\n",
    "y_predicted = model.predict(X_test) \n",
    "\n",
    "model_parameters(model, X)\n",
    "loss_functions(model, X, y, y_test, y_predicted);"
   ]
  },
  {
   "cell_type": "markdown",
   "metadata": {},
   "source": [
    "## Modelo de regresión lineal regularizado con Ridge"
   ]
  },
  {
   "cell_type": "code",
   "execution_count": 251,
   "metadata": {
    "scrolled": true
   },
   "outputs": [
    {
     "name": "stdout",
     "output_type": "stream",
     "text": [
      "\n",
      "Parametros:\n",
      "intercept [ 2456.43262354]\n",
      "alpha 1.0\n",
      "coeficients {'surface_covered_in_m2': 800.55794349283292, 'property_type_apartment': 0.0, 'ambients': 398.21683777983691, 'nuevo': 0.0, 'pileta_piscina': -19.206322376733269, 'subte': -266.09586794701363, 'parrilla': 0.0, 'balcon': 336.67930442536499, 'AC': 1107.020834920995, 'terraza': 59.005168376112465}\n",
      "\n",
      "Funciones de pérdida:\n",
      "MAE 600.332961491\n",
      "MSE 489638.822462\n",
      "RMSE 699.741968487\n",
      "Score 0.59906030627\n"
     ]
    }
   ],
   "source": [
    "from sklearn import linear_model\n",
    "from sklearn.linear_model import Lasso, LassoCV, Ridge, RidgeCV\n",
    "rlmcv = linear_model.RidgeCV()\n",
    "\n",
    "# Ajustamos nuevamente nuestro modelo, esta vez con RidgeCV y el alpha por defecto 1.\n",
    "X_train, X_test, y_train, y_test = train_test_split(X, y, test_size=0.3, random_state=53)\n",
    "\n",
    "ridge_cv_model = rlmcv.fit(X_train, y_train)\n",
    "y_predicted = ridge_cv_model.predict(X_test)\n",
    "\n",
    "model_parameters(ridge_cv_model, X)\n",
    "loss_functions(ridge_cv_model, X, y, y_test, y_predicted);"
   ]
  },
  {
   "cell_type": "markdown",
   "metadata": {
    "collapsed": true
   },
   "source": [
    "## Comparación de los modelos lineal, regularizado con Ridge y con LASSO"
   ]
  },
  {
   "cell_type": "code",
   "execution_count": 252,
   "metadata": {},
   "outputs": [
    {
     "name": "stderr",
     "output_type": "stream",
     "text": [
      "/home/ramiro/bin/anaconda3/lib/python3.6/site-packages/sklearn/linear_model/coordinate_descent.py:1082: DataConversionWarning: A column-vector y was passed when a 1d array was expected. Please change the shape of y to (n_samples, ), for example using ravel().\n",
      "  y = column_or_1d(y, warn=True)\n"
     ]
    },
    {
     "data": {
      "text/plain": [
       "LassoCV(alphas=array([ 0.1    ,  0.10134, ...,  0.49866,  0.5    ]),\n",
       "    copy_X=True, cv=KFold(n_splits=5, random_state=12, shuffle=True),\n",
       "    eps=0.001, fit_intercept=True, max_iter=1000, n_alphas=100, n_jobs=1,\n",
       "    normalize=False, positive=False, precompute='auto', random_state=None,\n",
       "    selection='cyclic', tol=0.0001, verbose=False)"
      ]
     },
     "execution_count": 252,
     "metadata": {},
     "output_type": "execute_result"
    }
   ],
   "source": [
    "X_train, X_test, y_train, y_test = train_test_split(X, y, test_size=0.3, random_state=53)\n",
    "\n",
    "from sklearn.model_selection import KFold\n",
    "\n",
    "# Distintos valores de alpha, rango min, rango max, cantidad de elementos.\n",
    "al_ridge = np.linspace(0.001, 0.3, 300)\n",
    "al_lasso = np.linspace(0.1, 0.5, 300)\n",
    "kf = KFold(n_splits=5, shuffle=True, random_state=12)\n",
    "\n",
    "# Instanciamos los 3 modelos\n",
    "lm = LinearRegression()\n",
    "lmRidgeCV = RidgeCV(alphas=al_ridge, cv=kf, normalize=False)\n",
    "lmLassoCV = LassoCV(alphas=al_lasso, cv=kf, normalize=False)\n",
    "\n",
    "# Fiteamos los 3 modelos\n",
    "lm.fit(X_train, y_train)\n",
    "lmRidgeCV.fit(X_train, y_train)\n",
    "lmLassoCV.fit(X_train, y_train)"
   ]
  },
  {
   "cell_type": "code",
   "execution_count": 253,
   "metadata": {
    "scrolled": true
   },
   "outputs": [
    {
     "name": "stdout",
     "output_type": "stream",
     "text": [
      "Regresion lineal\n",
      "\n",
      "Parametros:\n",
      "intercept [ 2342.51742332]\n",
      "coeficients {'surface_covered_in_m2': 1840.6192447527387, 'property_type_apartment': 4.5474735088646412e-13, 'ambients': -372.15892859673932, 'nuevo': 7.3896444519050419e-13, 'pileta_piscina': 30.780234934752976, 'subte': -170.16767372454237, 'parrilla': 0.0, 'balcon': 465.7340054316511, 'AC': 1186.0374559617362, 'terraza': -37.978453238700716}\n",
      "\n",
      "Funciones de pérdida:\n",
      "MAE 618.033766369\n",
      "MSE 546038.639306\n",
      "RMSE 738.944273478\n",
      "Score 0.593200848702\n"
     ]
    }
   ],
   "source": [
    "print(\"Regresion lineal\")\n",
    "y_predicted = lm.predict(X_test)\n",
    "model_parameters(lm, X)\n",
    "loss_functions(lm, X, y, y_test, y_predicted);"
   ]
  },
  {
   "cell_type": "code",
   "execution_count": 254,
   "metadata": {},
   "outputs": [
    {
     "name": "stdout",
     "output_type": "stream",
     "text": [
      "Regresion lineal regularizada con Ridge\n",
      "\n",
      "Parametros:\n",
      "intercept [ 2361.61772718]\n",
      "alpha 0.3\n",
      "coeficients {'surface_covered_in_m2': 1142.4237834546673, 'property_type_apartment': 0.0, 'ambients': 208.45139048277949, 'nuevo': 0.0, 'pileta_piscina': 3.8996975232971822, 'subte': -233.74789734199629, 'parrilla': 0.0, 'balcon': 398.53206002505635, 'AC': 1172.3007732124668, 'terraza': 35.494361735652348}\n",
      "\n",
      "Funciones de pérdida:\n",
      "MAE 618.033766369\n",
      "MSE 546038.639306\n",
      "RMSE 738.944273478\n",
      "Score 0.601870312482\n"
     ]
    }
   ],
   "source": [
    "print(\"Regresion lineal regularizada con Ridge\")\n",
    "y_predicted = model.predict(X_test)\n",
    "model_parameters(lmRidgeCV, X)\n",
    "loss_functions(lmRidgeCV, X, y, y_test, y_predicted);"
   ]
  },
  {
   "cell_type": "code",
   "execution_count": 255,
   "metadata": {},
   "outputs": [
    {
     "name": "stdout",
     "output_type": "stream",
     "text": [
      "Regresion lineal regularizada con LASSO\n",
      "\n",
      "Parametros:\n",
      "intercept 2339.22332102\n",
      "alpha 0.5\n",
      "coeficients {'surface_covered_in_m2': 1754.9792395707686, 'property_type_apartment': 0.0, 'ambients': -294.30310391298877, 'nuevo': 0.0, 'pileta_piscina': 10.587095572633093, 'subte': -175.98788546904808, 'parrilla': 0.0, 'balcon': 456.88504135614409, 'AC': 1186.6722488066353, 'terraza': -16.172024937172079}\n",
      "\n",
      "Funciones de pérdida:\n",
      "MAE 613.636378104\n",
      "MSE 537841.550437\n",
      "RMSE 733.376813403\n",
      "Score 0.595889479379\n"
     ]
    }
   ],
   "source": [
    "print(\"Regresion lineal regularizada con LASSO\")\n",
    "y_predicted = lmLassoCV.predict(X_test)\n",
    "model_parameters(lmLassoCV, X)\n",
    "loss_functions(lmLassoCV, X, y, y_test, y_predicted);"
   ]
  },
  {
   "cell_type": "markdown",
   "metadata": {},
   "source": [
    "## Validacion de los modelos"
   ]
  },
  {
   "cell_type": "code",
   "execution_count": 256,
   "metadata": {},
   "outputs": [
    {
     "name": "stdout",
     "output_type": "stream",
     "text": [
      "MSE lineal 546038.639306 \n",
      "MSE Ridge 507181.99836 \n",
      "MSE Lasso 537841.550437\n"
     ]
    }
   ],
   "source": [
    "# Testeamos los tres modelos contra con los datos de validacion\n",
    "y_predicted_lineal = lm.predict(X_test)\n",
    "y_predicted_ridge = lmRidgeCV.predict(X_test)\n",
    "y_predicted_lasso = lmLassoCV.predict(X_test)\n",
    "\n",
    "# Y calculamos el error cuadratico medio de cada uno de ellos\n",
    "print(\"MSE lineal\", mean_squared_error(y_test, y_predicted_lineal), \"\\n\"\n",
    "      \"MSE Ridge\",  mean_squared_error(y_test, y_predicted_ridge), \"\\n\"\n",
    "      \"MSE Lasso\",  mean_squared_error(y_test, y_predicted_lasso))"
   ]
  },
  {
   "cell_type": "markdown",
   "metadata": {
    "collapsed": true
   },
   "source": [
    "## Nuevas selecciones de features"
   ]
  },
  {
   "cell_type": "code",
   "execution_count": 257,
   "metadata": {
    "collapsed": true
   },
   "outputs": [],
   "source": [
    "# Subconjunto del dataset sobre el que queremos hacer el analisis.\n",
    "features_to_filter = {\n",
    "    'place_name' : 'Recoleta',\n",
    "    'property_type_apartment': 1,\n",
    "    'nuevo': 1,\n",
    "    'refaccionado': 0\n",
    "}\n",
    "\n",
    "# Seleccion de features para el modelo.\n",
    "features_selection = ['surface_covered_in_m2', 'property_type_apartment', 'ambients','nuevo','pileta_piscina', 'subte', 'parrilla', 'balcon', 'AC', 'terraza']\n",
    "\n",
    "# Features en los que vamos a corregir los outliers.\n",
    "features_to_fix = ['surface_covered_in_m2', 'price_usd_per_m2', 'ambients']\n",
    "\n",
    "# Features que necesitamos normalizar.\n",
    "features_to_normalize = ['surface_covered_in_m2', 'ambients']\n",
    "\n",
    "# Dataframe listo para entrenar y predecir.\n",
    "training_df = get_training_df(cleaned_df, features_to_filter, features_selection, target_feature, features_to_fix, features_to_normalize)"
   ]
  },
  {
   "cell_type": "code",
   "execution_count": 258,
   "metadata": {},
   "outputs": [
    {
     "name": "stdout",
     "output_type": "stream",
     "text": [
      "\n",
      "Parametros:\n",
      "intercept [ 2342.51742332]\n",
      "coeficients {'surface_covered_in_m2': 1840.6192447527387, 'property_type_apartment': 4.5474735088646412e-13, 'ambients': -372.15892859673932, 'nuevo': 7.3896444519050419e-13, 'pileta_piscina': 30.780234934752976, 'subte': -170.16767372454237, 'parrilla': 0.0, 'balcon': 465.7340054316511, 'AC': 1186.0374559617362, 'terraza': -37.978453238700716}\n",
      "\n",
      "Funciones de pérdida:\n",
      "MAE 618.033766369\n",
      "MSE 546038.639306\n",
      "RMSE 738.944273478\n",
      "Score 0.593200848702\n"
     ]
    }
   ],
   "source": [
    "linreg = LinearRegression()\n",
    "\n",
    "X = training_df[features_selection]\n",
    "y = training_df[target_feature]\n",
    "\n",
    "X_train, X_test, y_train, y_test = train_test_split(X, y, test_size=0.3, random_state=53)\n",
    "\n",
    "model = linreg.fit(X_train, y_train)\n",
    "y_predicted = model.predict(X_test) \n",
    "\n",
    "model_parameters(model, X)\n",
    "loss_functions(model, X, y, y_test, y_predicted);"
   ]
  }
 ],
 "metadata": {
  "kernelspec": {
   "display_name": "Python 3",
   "language": "python",
   "name": "python3"
  },
  "language_info": {
   "codemirror_mode": {
    "name": "ipython",
    "version": 3
   },
   "file_extension": ".py",
   "mimetype": "text/x-python",
   "name": "python",
   "nbconvert_exporter": "python",
   "pygments_lexer": "ipython3",
   "version": "3.6.1"
  }
 },
 "nbformat": 4,
 "nbformat_minor": 2
}
